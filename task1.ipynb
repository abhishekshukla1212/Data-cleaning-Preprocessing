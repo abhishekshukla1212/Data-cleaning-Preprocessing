{
 "cells": [
  {
   "cell_type": "code",
   "execution_count": 30,
   "id": "5a181bf8",
   "metadata": {},
   "outputs": [],
   "source": [
    "import pandas as pd\n",
    "import numpy as np\n",
    "import matplotlib.pyplot as plt\n",
    "from sklearn.model_selection import train_test_split\n",
    "from sklearn.preprocessing import StandardScaler"
   ]
  },
  {
   "cell_type": "code",
   "execution_count": 8,
   "id": "18f1c816",
   "metadata": {},
   "outputs": [
    {
     "data": {
      "text/html": [
       "<div>\n",
       "<style scoped>\n",
       "    .dataframe tbody tr th:only-of-type {\n",
       "        vertical-align: middle;\n",
       "    }\n",
       "\n",
       "    .dataframe tbody tr th {\n",
       "        vertical-align: top;\n",
       "    }\n",
       "\n",
       "    .dataframe thead th {\n",
       "        text-align: right;\n",
       "    }\n",
       "</style>\n",
       "<table border=\"1\" class=\"dataframe\">\n",
       "  <thead>\n",
       "    <tr style=\"text-align: right;\">\n",
       "      <th></th>\n",
       "      <th>Company Names</th>\n",
       "      <th>Cars Names</th>\n",
       "      <th>Engines</th>\n",
       "      <th>CC/Battery Capacity</th>\n",
       "      <th>HorsePower</th>\n",
       "      <th>Total Speed</th>\n",
       "      <th>Performance(0 - 100 )KM/H</th>\n",
       "      <th>Cars Prices</th>\n",
       "      <th>Fuel Types</th>\n",
       "      <th>Seats</th>\n",
       "      <th>Torque</th>\n",
       "    </tr>\n",
       "  </thead>\n",
       "  <tbody>\n",
       "    <tr>\n",
       "      <th>0</th>\n",
       "      <td>FERRARI</td>\n",
       "      <td>SF90 STRADALE</td>\n",
       "      <td>V8</td>\n",
       "      <td>3990 cc</td>\n",
       "      <td>963 hp</td>\n",
       "      <td>340 km/h</td>\n",
       "      <td>2.5 sec</td>\n",
       "      <td>$1,100,000</td>\n",
       "      <td>plug in hyrbrid</td>\n",
       "      <td>2</td>\n",
       "      <td>800 Nm</td>\n",
       "    </tr>\n",
       "    <tr>\n",
       "      <th>1</th>\n",
       "      <td>ROLLS ROYCE</td>\n",
       "      <td>PHANTOM</td>\n",
       "      <td>V12</td>\n",
       "      <td>6749 cc</td>\n",
       "      <td>563 hp</td>\n",
       "      <td>250 km/h</td>\n",
       "      <td>5.3 sec</td>\n",
       "      <td>$460,000</td>\n",
       "      <td>Petrol</td>\n",
       "      <td>5</td>\n",
       "      <td>900 Nm</td>\n",
       "    </tr>\n",
       "    <tr>\n",
       "      <th>2</th>\n",
       "      <td>Ford</td>\n",
       "      <td>KA+</td>\n",
       "      <td>1.2L Petrol</td>\n",
       "      <td>1,200 cc</td>\n",
       "      <td>70-85 hp</td>\n",
       "      <td>165 km/h</td>\n",
       "      <td>10.5 sec</td>\n",
       "      <td>$12,000-$15,000</td>\n",
       "      <td>Petrol</td>\n",
       "      <td>5</td>\n",
       "      <td>100 - 140 Nm</td>\n",
       "    </tr>\n",
       "    <tr>\n",
       "      <th>3</th>\n",
       "      <td>MERCEDES</td>\n",
       "      <td>GT 63 S</td>\n",
       "      <td>V8</td>\n",
       "      <td>3,982 cc</td>\n",
       "      <td>630 hp</td>\n",
       "      <td>250 km/h</td>\n",
       "      <td>3.2 sec</td>\n",
       "      <td>$161,000</td>\n",
       "      <td>Petrol</td>\n",
       "      <td>4</td>\n",
       "      <td>900 Nm</td>\n",
       "    </tr>\n",
       "    <tr>\n",
       "      <th>4</th>\n",
       "      <td>AUDI</td>\n",
       "      <td>AUDI R8 Gt</td>\n",
       "      <td>V10</td>\n",
       "      <td>5,204 cc</td>\n",
       "      <td>602 hp</td>\n",
       "      <td>320 km/h</td>\n",
       "      <td>3.6 sec</td>\n",
       "      <td>$253,290</td>\n",
       "      <td>Petrol</td>\n",
       "      <td>2</td>\n",
       "      <td>560 Nm</td>\n",
       "    </tr>\n",
       "  </tbody>\n",
       "</table>\n",
       "</div>"
      ],
      "text/plain": [
       "  Company Names     Cars Names      Engines CC/Battery Capacity HorsePower  \\\n",
       "0       FERRARI  SF90 STRADALE           V8             3990 cc     963 hp   \n",
       "1   ROLLS ROYCE        PHANTOM          V12             6749 cc     563 hp   \n",
       "2          Ford            KA+  1.2L Petrol            1,200 cc   70-85 hp   \n",
       "3      MERCEDES        GT 63 S           V8            3,982 cc     630 hp   \n",
       "4          AUDI     AUDI R8 Gt          V10            5,204 cc     602 hp   \n",
       "\n",
       "  Total Speed Performance(0 - 100 )KM/H      Cars Prices       Fuel Types  \\\n",
       "0    340 km/h                   2.5 sec      $1,100,000   plug in hyrbrid   \n",
       "1    250 km/h                   5.3 sec        $460,000            Petrol   \n",
       "2    165 km/h                  10.5 sec  $12,000-$15,000           Petrol   \n",
       "3    250 km/h                   3.2 sec        $161,000            Petrol   \n",
       "4    320 km/h                   3.6 sec        $253,290            Petrol   \n",
       "\n",
       "  Seats        Torque  \n",
       "0     2        800 Nm  \n",
       "1     5        900 Nm  \n",
       "2     5  100 - 140 Nm  \n",
       "3     4        900 Nm  \n",
       "4     2        560 Nm  "
      ]
     },
     "execution_count": 8,
     "metadata": {},
     "output_type": "execute_result"
    }
   ],
   "source": [
    "df = pd.read_csv(\"Cars Datasets 2025.csv\", encoding='ISO-8859-1')\n",
    "df.head()"
   ]
  },
  {
   "cell_type": "code",
   "execution_count": 9,
   "id": "56e636e1",
   "metadata": {},
   "outputs": [
    {
     "data": {
      "text/plain": [
       "(1218, 11)"
      ]
     },
     "execution_count": 9,
     "metadata": {},
     "output_type": "execute_result"
    }
   ],
   "source": [
    "df.shape"
   ]
  },
  {
   "cell_type": "code",
   "execution_count": 12,
   "id": "a7ba0e87",
   "metadata": {},
   "outputs": [
    {
     "name": "stdout",
     "output_type": "stream",
     "text": [
      "<class 'pandas.core.frame.DataFrame'>\n",
      "RangeIndex: 1218 entries, 0 to 1217\n",
      "Data columns (total 11 columns):\n",
      " #   Column                     Non-Null Count  Dtype \n",
      "---  ------                     --------------  ----- \n",
      " 0   Company Names              1218 non-null   object\n",
      " 1   Cars Names                 1218 non-null   object\n",
      " 2   Engines                    1218 non-null   object\n",
      " 3   CC/Battery Capacity        1215 non-null   object\n",
      " 4   HorsePower                 1218 non-null   object\n",
      " 5   Total Speed                1218 non-null   object\n",
      " 6   Performance(0 - 100 )KM/H  1212 non-null   object\n",
      " 7   Cars Prices                1218 non-null   object\n",
      " 8   Fuel Types                 1218 non-null   object\n",
      " 9   Seats                      1218 non-null   object\n",
      " 10  Torque                     1217 non-null   object\n",
      "dtypes: object(11)\n",
      "memory usage: 104.8+ KB\n"
     ]
    }
   ],
   "source": [
    "df.info()"
   ]
  },
  {
   "cell_type": "code",
   "execution_count": 16,
   "id": "8b334baa",
   "metadata": {},
   "outputs": [
    {
     "data": {
      "text/html": [
       "<div>\n",
       "<style scoped>\n",
       "    .dataframe tbody tr th:only-of-type {\n",
       "        vertical-align: middle;\n",
       "    }\n",
       "\n",
       "    .dataframe tbody tr th {\n",
       "        vertical-align: top;\n",
       "    }\n",
       "\n",
       "    .dataframe thead th {\n",
       "        text-align: right;\n",
       "    }\n",
       "</style>\n",
       "<table border=\"1\" class=\"dataframe\">\n",
       "  <thead>\n",
       "    <tr style=\"text-align: right;\">\n",
       "      <th></th>\n",
       "      <th>Company Names</th>\n",
       "      <th>Cars Names</th>\n",
       "      <th>Engines</th>\n",
       "      <th>CC/Battery Capacity</th>\n",
       "      <th>HorsePower</th>\n",
       "      <th>Total Speed</th>\n",
       "      <th>Performance(0 - 100 )KM/H</th>\n",
       "      <th>Cars Prices</th>\n",
       "      <th>Fuel Types</th>\n",
       "      <th>Seats</th>\n",
       "      <th>Torque</th>\n",
       "    </tr>\n",
       "  </thead>\n",
       "  <tbody>\n",
       "    <tr>\n",
       "      <th>0</th>\n",
       "      <td>False</td>\n",
       "      <td>False</td>\n",
       "      <td>False</td>\n",
       "      <td>False</td>\n",
       "      <td>False</td>\n",
       "      <td>False</td>\n",
       "      <td>False</td>\n",
       "      <td>False</td>\n",
       "      <td>False</td>\n",
       "      <td>False</td>\n",
       "      <td>False</td>\n",
       "    </tr>\n",
       "    <tr>\n",
       "      <th>1</th>\n",
       "      <td>False</td>\n",
       "      <td>False</td>\n",
       "      <td>False</td>\n",
       "      <td>False</td>\n",
       "      <td>False</td>\n",
       "      <td>False</td>\n",
       "      <td>False</td>\n",
       "      <td>False</td>\n",
       "      <td>False</td>\n",
       "      <td>False</td>\n",
       "      <td>False</td>\n",
       "    </tr>\n",
       "    <tr>\n",
       "      <th>2</th>\n",
       "      <td>False</td>\n",
       "      <td>False</td>\n",
       "      <td>False</td>\n",
       "      <td>False</td>\n",
       "      <td>False</td>\n",
       "      <td>False</td>\n",
       "      <td>False</td>\n",
       "      <td>False</td>\n",
       "      <td>False</td>\n",
       "      <td>False</td>\n",
       "      <td>False</td>\n",
       "    </tr>\n",
       "    <tr>\n",
       "      <th>3</th>\n",
       "      <td>False</td>\n",
       "      <td>False</td>\n",
       "      <td>False</td>\n",
       "      <td>False</td>\n",
       "      <td>False</td>\n",
       "      <td>False</td>\n",
       "      <td>False</td>\n",
       "      <td>False</td>\n",
       "      <td>False</td>\n",
       "      <td>False</td>\n",
       "      <td>False</td>\n",
       "    </tr>\n",
       "    <tr>\n",
       "      <th>4</th>\n",
       "      <td>False</td>\n",
       "      <td>False</td>\n",
       "      <td>False</td>\n",
       "      <td>False</td>\n",
       "      <td>False</td>\n",
       "      <td>False</td>\n",
       "      <td>False</td>\n",
       "      <td>False</td>\n",
       "      <td>False</td>\n",
       "      <td>False</td>\n",
       "      <td>False</td>\n",
       "    </tr>\n",
       "    <tr>\n",
       "      <th>...</th>\n",
       "      <td>...</td>\n",
       "      <td>...</td>\n",
       "      <td>...</td>\n",
       "      <td>...</td>\n",
       "      <td>...</td>\n",
       "      <td>...</td>\n",
       "      <td>...</td>\n",
       "      <td>...</td>\n",
       "      <td>...</td>\n",
       "      <td>...</td>\n",
       "      <td>...</td>\n",
       "    </tr>\n",
       "    <tr>\n",
       "      <th>1213</th>\n",
       "      <td>False</td>\n",
       "      <td>False</td>\n",
       "      <td>False</td>\n",
       "      <td>False</td>\n",
       "      <td>False</td>\n",
       "      <td>False</td>\n",
       "      <td>False</td>\n",
       "      <td>False</td>\n",
       "      <td>False</td>\n",
       "      <td>False</td>\n",
       "      <td>False</td>\n",
       "    </tr>\n",
       "    <tr>\n",
       "      <th>1214</th>\n",
       "      <td>False</td>\n",
       "      <td>False</td>\n",
       "      <td>False</td>\n",
       "      <td>False</td>\n",
       "      <td>False</td>\n",
       "      <td>False</td>\n",
       "      <td>False</td>\n",
       "      <td>False</td>\n",
       "      <td>False</td>\n",
       "      <td>False</td>\n",
       "      <td>False</td>\n",
       "    </tr>\n",
       "    <tr>\n",
       "      <th>1215</th>\n",
       "      <td>False</td>\n",
       "      <td>False</td>\n",
       "      <td>False</td>\n",
       "      <td>False</td>\n",
       "      <td>False</td>\n",
       "      <td>False</td>\n",
       "      <td>False</td>\n",
       "      <td>False</td>\n",
       "      <td>False</td>\n",
       "      <td>False</td>\n",
       "      <td>False</td>\n",
       "    </tr>\n",
       "    <tr>\n",
       "      <th>1216</th>\n",
       "      <td>False</td>\n",
       "      <td>False</td>\n",
       "      <td>False</td>\n",
       "      <td>False</td>\n",
       "      <td>False</td>\n",
       "      <td>False</td>\n",
       "      <td>False</td>\n",
       "      <td>False</td>\n",
       "      <td>False</td>\n",
       "      <td>False</td>\n",
       "      <td>False</td>\n",
       "    </tr>\n",
       "    <tr>\n",
       "      <th>1217</th>\n",
       "      <td>False</td>\n",
       "      <td>False</td>\n",
       "      <td>False</td>\n",
       "      <td>False</td>\n",
       "      <td>False</td>\n",
       "      <td>False</td>\n",
       "      <td>False</td>\n",
       "      <td>False</td>\n",
       "      <td>False</td>\n",
       "      <td>False</td>\n",
       "      <td>False</td>\n",
       "    </tr>\n",
       "  </tbody>\n",
       "</table>\n",
       "<p>1218 rows × 11 columns</p>\n",
       "</div>"
      ],
      "text/plain": [
       "      Company Names  Cars Names  Engines  CC/Battery Capacity  HorsePower  \\\n",
       "0             False       False    False                False       False   \n",
       "1             False       False    False                False       False   \n",
       "2             False       False    False                False       False   \n",
       "3             False       False    False                False       False   \n",
       "4             False       False    False                False       False   \n",
       "...             ...         ...      ...                  ...         ...   \n",
       "1213          False       False    False                False       False   \n",
       "1214          False       False    False                False       False   \n",
       "1215          False       False    False                False       False   \n",
       "1216          False       False    False                False       False   \n",
       "1217          False       False    False                False       False   \n",
       "\n",
       "      Total Speed  Performance(0 - 100 )KM/H  Cars Prices  Fuel Types  Seats  \\\n",
       "0           False                      False        False       False  False   \n",
       "1           False                      False        False       False  False   \n",
       "2           False                      False        False       False  False   \n",
       "3           False                      False        False       False  False   \n",
       "4           False                      False        False       False  False   \n",
       "...           ...                        ...          ...         ...    ...   \n",
       "1213        False                      False        False       False  False   \n",
       "1214        False                      False        False       False  False   \n",
       "1215        False                      False        False       False  False   \n",
       "1216        False                      False        False       False  False   \n",
       "1217        False                      False        False       False  False   \n",
       "\n",
       "      Torque  \n",
       "0      False  \n",
       "1      False  \n",
       "2      False  \n",
       "3      False  \n",
       "4      False  \n",
       "...      ...  \n",
       "1213   False  \n",
       "1214   False  \n",
       "1215   False  \n",
       "1216   False  \n",
       "1217   False  \n",
       "\n",
       "[1218 rows x 11 columns]"
      ]
     },
     "execution_count": 16,
     "metadata": {},
     "output_type": "execute_result"
    }
   ],
   "source": [
    "pd.isnull(df)"
   ]
  },
  {
   "cell_type": "code",
   "execution_count": 5,
   "id": "f47be0ce",
   "metadata": {},
   "outputs": [
    {
     "data": {
      "text/plain": [
       "Company Names                0\n",
       "Cars Names                   0\n",
       "Engines                      0\n",
       "CC/Battery Capacity          3\n",
       "HorsePower                   0\n",
       "Total Speed                  0\n",
       "Performance(0 - 100 )KM/H    6\n",
       "Cars Prices                  0\n",
       "Fuel Types                   0\n",
       "Seats                        0\n",
       "Torque                       1\n",
       "dtype: int64"
      ]
     },
     "execution_count": 5,
     "metadata": {},
     "output_type": "execute_result"
    }
   ],
   "source": [
    "df.isnull().sum()"
   ]
  },
  {
   "cell_type": "code",
   "execution_count": 17,
   "id": "e0b2a27d",
   "metadata": {},
   "outputs": [],
   "source": [
    "df.dropna(inplace=True)"
   ]
  },
  {
   "cell_type": "code",
   "execution_count": 18,
   "id": "312ddf24",
   "metadata": {},
   "outputs": [
    {
     "data": {
      "text/plain": [
       "Company Names                0\n",
       "Cars Names                   0\n",
       "Engines                      0\n",
       "CC/Battery Capacity          0\n",
       "HorsePower                   0\n",
       "Total Speed                  0\n",
       "Performance(0 - 100 )KM/H    0\n",
       "Cars Prices                  0\n",
       "Fuel Types                   0\n",
       "Seats                        0\n",
       "Torque                       0\n",
       "dtype: int64"
      ]
     },
     "execution_count": 18,
     "metadata": {},
     "output_type": "execute_result"
    }
   ],
   "source": [
    "df.isnull().sum()"
   ]
  },
  {
   "cell_type": "code",
   "execution_count": 19,
   "id": "ab520962",
   "metadata": {},
   "outputs": [
    {
     "data": {
      "text/plain": [
       "(1210, 11)"
      ]
     },
     "execution_count": 19,
     "metadata": {},
     "output_type": "execute_result"
    }
   ],
   "source": [
    "df.shape"
   ]
  },
  {
   "cell_type": "code",
   "execution_count": 22,
   "id": "848c8322",
   "metadata": {},
   "outputs": [
    {
     "data": {
      "text/html": [
       "<div>\n",
       "<style scoped>\n",
       "    .dataframe tbody tr th:only-of-type {\n",
       "        vertical-align: middle;\n",
       "    }\n",
       "\n",
       "    .dataframe tbody tr th {\n",
       "        vertical-align: top;\n",
       "    }\n",
       "\n",
       "    .dataframe thead th {\n",
       "        text-align: right;\n",
       "    }\n",
       "</style>\n",
       "<table border=\"1\" class=\"dataframe\">\n",
       "  <thead>\n",
       "    <tr style=\"text-align: right;\">\n",
       "      <th></th>\n",
       "      <th>Company Names</th>\n",
       "      <th>Cars Names</th>\n",
       "      <th>Engines</th>\n",
       "      <th>CC/Battery Capacity</th>\n",
       "      <th>HorsePower</th>\n",
       "      <th>Total Speed</th>\n",
       "      <th>Performance(0 - 100 )KM/H</th>\n",
       "      <th>Cars Prices</th>\n",
       "      <th>Fuel Types</th>\n",
       "      <th>Seats</th>\n",
       "      <th>Torque</th>\n",
       "    </tr>\n",
       "  </thead>\n",
       "  <tbody>\n",
       "    <tr>\n",
       "      <th>count</th>\n",
       "      <td>1210</td>\n",
       "      <td>1210</td>\n",
       "      <td>1210</td>\n",
       "      <td>1210</td>\n",
       "      <td>1210</td>\n",
       "      <td>1210</td>\n",
       "      <td>1210</td>\n",
       "      <td>1210</td>\n",
       "      <td>1210</td>\n",
       "      <td>1210</td>\n",
       "      <td>1210</td>\n",
       "    </tr>\n",
       "    <tr>\n",
       "      <th>unique</th>\n",
       "      <td>37</td>\n",
       "      <td>1193</td>\n",
       "      <td>350</td>\n",
       "      <td>309</td>\n",
       "      <td>453</td>\n",
       "      <td>113</td>\n",
       "      <td>180</td>\n",
       "      <td>533</td>\n",
       "      <td>21</td>\n",
       "      <td>17</td>\n",
       "      <td>262</td>\n",
       "    </tr>\n",
       "    <tr>\n",
       "      <th>top</th>\n",
       "      <td>Nissan</td>\n",
       "      <td>Jetta Hybrid</td>\n",
       "      <td>I4</td>\n",
       "      <td>2,000 cc</td>\n",
       "      <td>355 hp</td>\n",
       "      <td>250 km/h</td>\n",
       "      <td>6.5 sec</td>\n",
       "      <td>$35,000</td>\n",
       "      <td>Petrol</td>\n",
       "      <td>5</td>\n",
       "      <td>400 Nm</td>\n",
       "    </tr>\n",
       "    <tr>\n",
       "      <th>freq</th>\n",
       "      <td>148</td>\n",
       "      <td>2</td>\n",
       "      <td>64</td>\n",
       "      <td>31</td>\n",
       "      <td>23</td>\n",
       "      <td>144</td>\n",
       "      <td>45</td>\n",
       "      <td>36</td>\n",
       "      <td>871</td>\n",
       "      <td>691</td>\n",
       "      <td>72</td>\n",
       "    </tr>\n",
       "  </tbody>\n",
       "</table>\n",
       "</div>"
      ],
      "text/plain": [
       "       Company Names    Cars Names Engines CC/Battery Capacity HorsePower  \\\n",
       "count           1210          1210    1210                1210       1210   \n",
       "unique            37          1193     350                 309        453   \n",
       "top           Nissan  Jetta Hybrid      I4            2,000 cc     355 hp   \n",
       "freq             148             2      64                  31         23   \n",
       "\n",
       "       Total Speed Performance(0 - 100 )KM/H Cars Prices Fuel Types Seats  \\\n",
       "count         1210                      1210        1210       1210  1210   \n",
       "unique         113                       180         533         21    17   \n",
       "top       250 km/h                   6.5 sec    $35,000      Petrol     5   \n",
       "freq           144                        45          36        871   691   \n",
       "\n",
       "        Torque  \n",
       "count     1210  \n",
       "unique     262  \n",
       "top     400 Nm  \n",
       "freq        72  "
      ]
     },
     "execution_count": 22,
     "metadata": {},
     "output_type": "execute_result"
    }
   ],
   "source": [
    "df.describe()"
   ]
  },
  {
   "cell_type": "code",
   "execution_count": 25,
   "id": "0e6d1bb9",
   "metadata": {},
   "outputs": [
    {
     "data": {
      "text/html": [
       "<div>\n",
       "<style scoped>\n",
       "    .dataframe tbody tr th:only-of-type {\n",
       "        vertical-align: middle;\n",
       "    }\n",
       "\n",
       "    .dataframe tbody tr th {\n",
       "        vertical-align: top;\n",
       "    }\n",
       "\n",
       "    .dataframe thead th {\n",
       "        text-align: right;\n",
       "    }\n",
       "</style>\n",
       "<table border=\"1\" class=\"dataframe\">\n",
       "  <thead>\n",
       "    <tr style=\"text-align: right;\">\n",
       "      <th></th>\n",
       "      <th>Company Names</th>\n",
       "      <th>Cars Names</th>\n",
       "      <th>Cars Prices</th>\n",
       "    </tr>\n",
       "  </thead>\n",
       "  <tbody>\n",
       "    <tr>\n",
       "      <th>count</th>\n",
       "      <td>1210</td>\n",
       "      <td>1210</td>\n",
       "      <td>1210</td>\n",
       "    </tr>\n",
       "    <tr>\n",
       "      <th>unique</th>\n",
       "      <td>37</td>\n",
       "      <td>1193</td>\n",
       "      <td>533</td>\n",
       "    </tr>\n",
       "    <tr>\n",
       "      <th>top</th>\n",
       "      <td>Nissan</td>\n",
       "      <td>Jetta Hybrid</td>\n",
       "      <td>$35,000</td>\n",
       "    </tr>\n",
       "    <tr>\n",
       "      <th>freq</th>\n",
       "      <td>148</td>\n",
       "      <td>2</td>\n",
       "      <td>36</td>\n",
       "    </tr>\n",
       "  </tbody>\n",
       "</table>\n",
       "</div>"
      ],
      "text/plain": [
       "       Company Names    Cars Names Cars Prices\n",
       "count           1210          1210        1210\n",
       "unique            37          1193         533\n",
       "top           Nissan  Jetta Hybrid    $35,000 \n",
       "freq             148             2          36"
      ]
     },
     "execution_count": 25,
     "metadata": {},
     "output_type": "execute_result"
    }
   ],
   "source": [
    "df[['Company Names','Cars Names','Cars Prices']].describe()"
   ]
  },
  {
   "cell_type": "code",
   "execution_count": 20,
   "id": "abd0a0d7",
   "metadata": {},
   "outputs": [
    {
     "data": {
      "text/plain": [
       "Index(['Company Names', 'Cars Names', 'Engines', 'CC/Battery Capacity',\n",
       "       'HorsePower', 'Total Speed', 'Performance(0 - 100 )KM/H', 'Cars Prices',\n",
       "       'Fuel Types', 'Seats', 'Torque'],\n",
       "      dtype='object')"
      ]
     },
     "execution_count": 20,
     "metadata": {},
     "output_type": "execute_result"
    }
   ],
   "source": [
    "df.columns"
   ]
  },
  {
   "cell_type": "code",
   "execution_count": 26,
   "id": "1eaf5285",
   "metadata": {},
   "outputs": [
    {
     "name": "stdout",
     "output_type": "stream",
     "text": [
      "X_train: (968, 10)\n",
      "X_test: (242, 10)\n",
      "y_train: (968,)\n",
      "y_test: (242,)\n"
     ]
    }
   ],
   "source": [
    "X = df.drop(\"Cars Prices\", axis=1)\n",
    "y = df[\"Cars Prices\"]\n",
    "\n",
    "\n",
    "X_train, X_test, y_train, y_test = train_test_split(\n",
    "    X, y, test_size=0.2, random_state=42\n",
    ")\n",
    "\n",
    "\n",
    "print(\"X_train:\", X_train.shape)\n",
    "print(\"X_test:\", X_test.shape)\n",
    "print(\"y_train:\", y_train.shape)\n",
    "print(\"y_test:\", y_test.shape)\n"
   ]
  },
  {
   "cell_type": "code",
   "execution_count": 27,
   "id": "d9bda374",
   "metadata": {},
   "outputs": [],
   "source": [
    "num_cols = ['CC/Battery Capacity', 'HorsePower', 'Total Speed',             # Handle missing values\n",
    "            'Performance(0 - 100 )KM/H', 'Cars Prices', 'Torque', 'Seats']\n"
   ]
  },
  {
   "cell_type": "code",
   "execution_count": 28,
   "id": "62931f78",
   "metadata": {},
   "outputs": [],
   "source": [
    "for col in num_cols:\n",
    "    df[col] = df[col].str.extract(r'([\\d.]+)').astype(float)"
   ]
  },
  {
   "cell_type": "code",
   "execution_count": 29,
   "id": "db368d28",
   "metadata": {},
   "outputs": [],
   "source": [
    "for col in num_cols:                                     # (missing numeric values with median)\n",
    "    df[col] = df[col].fillna(df[col].median())\n",
    "\n",
    "\n",
    "cat_cols = df.select_dtypes(include='object').columns   # (Fill remaining categorical missing values )\n",
    "for col in cat_cols:\n",
    "    df[col] = df[col].fillna(df[col].mode()[0])\n",
    "\n",
    "df = pd.get_dummies(df, drop_first=True)"
   ]
  },
  {
   "cell_type": "code",
   "execution_count": 31,
   "id": "3741194b",
   "metadata": {},
   "outputs": [],
   "source": [
    "scaler = StandardScaler()\n",
    "df[num_cols] = scaler.fit_transform(df[num_cols])"
   ]
  },
  {
   "cell_type": "code",
   "execution_count": 32,
   "id": "b84ee5e4",
   "metadata": {},
   "outputs": [
    {
     "data": {
      "image/png": "[encoded data removed]",
      "text/plain": [
       "<Figure size 640x480 with 1 Axes>"
      ]
     },
     "metadata": {},
     "output_type": "display_data"
    },
    {
     "data": {
      "image/png": "[encoded data removed]",
      "text/plain": [
       "<Figure size 640x480 with 1 Axes>"
      ]
     },
     "metadata": {},
     "output_type": "display_data"
    },
    {
     "data": {
      "image/png": "[encoded data removed]",
      "text/plain": [
       "<Figure size 640x480 with 1 Axes>"
      ]
     },
     "metadata": {},
     "output_type": "display_data"
    },
    {
     "data": {
      "image/png": "[encoded data removed]",
      "text/plain": [
       "<Figure size 640x480 with 1 Axes>"
      ]
     },
     "metadata": {},
     "output_type": "display_data"
    },
    {
     "data": {
      "image/png": "[encoded data removed]",
      "text/plain": [
       "<Figure size 640x480 with 1 Axes>"
      ]
     },
     "metadata": {},
     "output_type": "display_data"
    },
    {
     "data": {
      "image/png": "[encoded data removed]",
      "text/plain": [
       "<Figure size 640x480 with 1 Axes>"
      ]
     },
     "metadata": {},
     "output_type": "display_data"
    },
    {
     "data": {
      "image/png": "[encoded data removed]",
      "text/plain": [
       "<Figure size 640x480 with 1 Axes>"
      ]
     },
     "metadata": {},
     "output_type": "display_data"
    }
   ],
   "source": [
    "for col in num_cols:\n",
    "    plt.figure()\n",
    "    df.boxplot(column=[col])\n",
    "    plt.title(f\"Boxplot of {col}\")\n",
    "    plt.show()"
   ]
  },
  {
   "cell_type": "code",
   "execution_count": 33,
   "id": "5adc4ec0",
   "metadata": {},
   "outputs": [],
   "source": [
    "for col in num_cols:                        # Remove outliers using IQR\n",
    "    Q1 = df[col].quantile(0.25)\n",
    "    Q3 = df[col].quantile(0.75)\n",
    "    IQR = Q3 - Q1\n",
    "    df = df[~((df[col] < (Q1 - 1.5 * IQR)) | (df[col] > (Q3 + 1.5 * IQR)))]"
   ]
  }
 ],
 "metadata": {
  "kernelspec": {
   "display_name": "Python 3",
   "language": "python",
   "name": "python3"
  },
  "language_info": {
   "codemirror_mode": {
    "name": "ipython",
    "version": 3
   },
   "file_extension": ".py",
   "mimetype": "text/x-python",
   "name": "python",
   "nbconvert_exporter": "python",
   "pygments_lexer": "ipython3",
   "version": "3.13.3"
  }
 },
 "nbformat": 4,
 "nbformat_minor": 5
}
